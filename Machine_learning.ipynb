{
 "cells": [
  {
   "cell_type": "markdown",
   "id": "acc1f5f5",
   "metadata": {},
   "source": [
    "# Olympics"
   ]
  },
  {
   "cell_type": "markdown",
   "id": "96ebe415",
   "metadata": {},
   "source": [
    "### A1 - Leer Datasets\n",
    "- En Kaggle existen dos datasets sobre las olimpiadas modernas\n",
    "  - Atletas y resultados de medallas, desde 1896 a 2016, https://www.kaggle.com/heesoo37/120-years-of-olympic-history-athletes-and-results\n",
    "  - Resultados de atletismo, desde 1896 a 2016, https://www.kaggle.com/jayrav13/olympic-track-field-results\n",
    "  \n",
    "- Obtener y leer los ficheros csv en dataframes de pandas"
   ]
  },
  {
   "cell_type": "code",
   "execution_count": 2,
   "id": "2a57f4f6-81a7-4f67-adcd-407dc45a258e",
   "metadata": {},
   "outputs": [],
   "source": [
    "import numpy as np\n",
    "import pandas as pd\n",
    "import matplotlib.pyplot as plt\n",
    "import seaborn as sns\n",
    "import os\n",
    "from sklearn import datasets\n",
    "from sklearn import model_selection\n",
    "from sklearn import tree\n",
    "from sklearn import preprocessing\n",
    "from sklearn import utils"
   ]
  },
  {
   "cell_type": "code",
   "execution_count": 3,
   "id": "572af564-2c83-4d0d-bb67-a40b08c4d4cd",
   "metadata": {
    "tags": []
   },
   "outputs": [
    {
     "data": {
      "text/html": [
       "<div>\n",
       "<style scoped>\n",
       "    .dataframe tbody tr th:only-of-type {\n",
       "        vertical-align: middle;\n",
       "    }\n",
       "\n",
       "    .dataframe tbody tr th {\n",
       "        vertical-align: top;\n",
       "    }\n",
       "\n",
       "    .dataframe thead th {\n",
       "        text-align: right;\n",
       "    }\n",
       "</style>\n",
       "<table border=\"1\" class=\"dataframe\">\n",
       "  <thead>\n",
       "    <tr style=\"text-align: right;\">\n",
       "      <th></th>\n",
       "      <th>ID</th>\n",
       "      <th>Name</th>\n",
       "      <th>Sex</th>\n",
       "      <th>Age</th>\n",
       "      <th>Height</th>\n",
       "      <th>Weight</th>\n",
       "      <th>Team</th>\n",
       "      <th>NOC</th>\n",
       "      <th>Games</th>\n",
       "      <th>Year</th>\n",
       "      <th>Season</th>\n",
       "      <th>City</th>\n",
       "      <th>Sport</th>\n",
       "      <th>Event</th>\n",
       "      <th>Medal</th>\n",
       "    </tr>\n",
       "  </thead>\n",
       "  <tbody>\n",
       "    <tr>\n",
       "      <th>257551</th>\n",
       "      <td>128974</td>\n",
       "      <td>Joshua John \"Josh\" Watson</td>\n",
       "      <td>M</td>\n",
       "      <td>23.0</td>\n",
       "      <td>184.0</td>\n",
       "      <td>80.0</td>\n",
       "      <td>Australia</td>\n",
       "      <td>AUS</td>\n",
       "      <td>2000 Summer</td>\n",
       "      <td>2000</td>\n",
       "      <td>Summer</td>\n",
       "      <td>Sydney</td>\n",
       "      <td>Swimming</td>\n",
       "      <td>Swimming Men's 4 x 100 metres Medley Relay</td>\n",
       "      <td>Silver</td>\n",
       "    </tr>\n",
       "    <tr>\n",
       "      <th>127221</th>\n",
       "      <td>64139</td>\n",
       "      <td>Kanokwan Krittakom</td>\n",
       "      <td>F</td>\n",
       "      <td>21.0</td>\n",
       "      <td>161.0</td>\n",
       "      <td>50.0</td>\n",
       "      <td>Thailand</td>\n",
       "      <td>THA</td>\n",
       "      <td>1984 Summer</td>\n",
       "      <td>1984</td>\n",
       "      <td>Summer</td>\n",
       "      <td>Los Angeles</td>\n",
       "      <td>Shooting</td>\n",
       "      <td>Shooting Women's Air Rifle, 10 metres</td>\n",
       "      <td>NaN</td>\n",
       "    </tr>\n",
       "    <tr>\n",
       "      <th>240323</th>\n",
       "      <td>120427</td>\n",
       "      <td>Tin Maung Ni</td>\n",
       "      <td>M</td>\n",
       "      <td>22.0</td>\n",
       "      <td>167.0</td>\n",
       "      <td>62.0</td>\n",
       "      <td>Myanmar</td>\n",
       "      <td>MYA</td>\n",
       "      <td>1960 Summer</td>\n",
       "      <td>1960</td>\n",
       "      <td>Summer</td>\n",
       "      <td>Roma</td>\n",
       "      <td>Swimming</td>\n",
       "      <td>Swimming Men's 1,500 metres Freestyle</td>\n",
       "      <td>NaN</td>\n",
       "    </tr>\n",
       "    <tr>\n",
       "      <th>146777</th>\n",
       "      <td>73668</td>\n",
       "      <td>Gerald Grant Main</td>\n",
       "      <td>M</td>\n",
       "      <td>24.0</td>\n",
       "      <td>189.0</td>\n",
       "      <td>90.0</td>\n",
       "      <td>Canada</td>\n",
       "      <td>CAN</td>\n",
       "      <td>1984 Summer</td>\n",
       "      <td>1984</td>\n",
       "      <td>Summer</td>\n",
       "      <td>Los Angeles</td>\n",
       "      <td>Rowing</td>\n",
       "      <td>Rowing Men's Coxed Eights</td>\n",
       "      <td>Gold</td>\n",
       "    </tr>\n",
       "    <tr>\n",
       "      <th>50585</th>\n",
       "      <td>26016</td>\n",
       "      <td>Jos de Carvalho Filho</td>\n",
       "      <td>M</td>\n",
       "      <td>25.0</td>\n",
       "      <td>NaN</td>\n",
       "      <td>NaN</td>\n",
       "      <td>Brazil</td>\n",
       "      <td>BRA</td>\n",
       "      <td>1956 Summer</td>\n",
       "      <td>1956</td>\n",
       "      <td>Summer</td>\n",
       "      <td>Melbourne</td>\n",
       "      <td>Rowing</td>\n",
       "      <td>Rowing Men's Coxed Fours</td>\n",
       "      <td>NaN</td>\n",
       "    </tr>\n",
       "    <tr>\n",
       "      <th>149173</th>\n",
       "      <td>74825</td>\n",
       "      <td>Claudio Marchisio</td>\n",
       "      <td>M</td>\n",
       "      <td>22.0</td>\n",
       "      <td>179.0</td>\n",
       "      <td>66.0</td>\n",
       "      <td>Italy</td>\n",
       "      <td>ITA</td>\n",
       "      <td>2008 Summer</td>\n",
       "      <td>2008</td>\n",
       "      <td>Summer</td>\n",
       "      <td>Beijing</td>\n",
       "      <td>Football</td>\n",
       "      <td>Football Men's Football</td>\n",
       "      <td>NaN</td>\n",
       "    </tr>\n",
       "    <tr>\n",
       "      <th>95304</th>\n",
       "      <td>48261</td>\n",
       "      <td>Wenche-Lin Mobergslien Hess</td>\n",
       "      <td>F</td>\n",
       "      <td>25.0</td>\n",
       "      <td>171.0</td>\n",
       "      <td>64.0</td>\n",
       "      <td>Norway</td>\n",
       "      <td>NOR</td>\n",
       "      <td>2000 Summer</td>\n",
       "      <td>2000</td>\n",
       "      <td>Summer</td>\n",
       "      <td>Sydney</td>\n",
       "      <td>Archery</td>\n",
       "      <td>Archery Women's Individual</td>\n",
       "      <td>NaN</td>\n",
       "    </tr>\n",
       "    <tr>\n",
       "      <th>135898</th>\n",
       "      <td>68375</td>\n",
       "      <td>Lynda Caroline Lehmann</td>\n",
       "      <td>F</td>\n",
       "      <td>37.0</td>\n",
       "      <td>166.0</td>\n",
       "      <td>72.0</td>\n",
       "      <td>Australia</td>\n",
       "      <td>AUS</td>\n",
       "      <td>1996 Summer</td>\n",
       "      <td>1996</td>\n",
       "      <td>Summer</td>\n",
       "      <td>Atlanta</td>\n",
       "      <td>Canoeing</td>\n",
       "      <td>Canoeing Women's Kayak Fours, 500 metres</td>\n",
       "      <td>NaN</td>\n",
       "    </tr>\n",
       "  </tbody>\n",
       "</table>\n",
       "</div>"
      ],
      "text/plain": [
       "            ID                         Name Sex   Age  Height  Weight  \\\n",
       "257551  128974    Joshua John \"Josh\" Watson   M  23.0   184.0    80.0   \n",
       "127221   64139           Kanokwan Krittakom   F  21.0   161.0    50.0   \n",
       "240323  120427                 Tin Maung Ni   M  22.0   167.0    62.0   \n",
       "146777   73668            Gerald Grant Main   M  24.0   189.0    90.0   \n",
       "50585    26016        Jos de Carvalho Filho   M  25.0     NaN     NaN   \n",
       "149173   74825            Claudio Marchisio   M  22.0   179.0    66.0   \n",
       "95304    48261  Wenche-Lin Mobergslien Hess   F  25.0   171.0    64.0   \n",
       "135898   68375       Lynda Caroline Lehmann   F  37.0   166.0    72.0   \n",
       "\n",
       "             Team  NOC        Games  Year  Season         City     Sport  \\\n",
       "257551  Australia  AUS  2000 Summer  2000  Summer       Sydney  Swimming   \n",
       "127221   Thailand  THA  1984 Summer  1984  Summer  Los Angeles  Shooting   \n",
       "240323    Myanmar  MYA  1960 Summer  1960  Summer         Roma  Swimming   \n",
       "146777     Canada  CAN  1984 Summer  1984  Summer  Los Angeles    Rowing   \n",
       "50585      Brazil  BRA  1956 Summer  1956  Summer    Melbourne    Rowing   \n",
       "149173      Italy  ITA  2008 Summer  2008  Summer      Beijing  Football   \n",
       "95304      Norway  NOR  2000 Summer  2000  Summer       Sydney   Archery   \n",
       "135898  Australia  AUS  1996 Summer  1996  Summer      Atlanta  Canoeing   \n",
       "\n",
       "                                             Event   Medal  \n",
       "257551  Swimming Men's 4 x 100 metres Medley Relay  Silver  \n",
       "127221       Shooting Women's Air Rifle, 10 metres     NaN  \n",
       "240323       Swimming Men's 1,500 metres Freestyle     NaN  \n",
       "146777                   Rowing Men's Coxed Eights    Gold  \n",
       "50585                     Rowing Men's Coxed Fours     NaN  \n",
       "149173                     Football Men's Football     NaN  \n",
       "95304                   Archery Women's Individual     NaN  \n",
       "135898    Canoeing Women's Kayak Fours, 500 metres     NaN  "
      ]
     },
     "execution_count": 3,
     "metadata": {},
     "output_type": "execute_result"
    }
   ],
   "source": [
    "datos_atletas=pd.read_csv('res/atletas.csv',engine='python')\n",
    "datos_atletas.sample(8)"
   ]
  },
  {
   "cell_type": "code",
   "execution_count": 4,
   "id": "700c0b7d-e0de-4119-9ca7-78be9e158d52",
   "metadata": {
    "tags": []
   },
   "outputs": [
    {
     "data": {
      "text/html": [
       "<div>\n",
       "<style scoped>\n",
       "    .dataframe tbody tr th:only-of-type {\n",
       "        vertical-align: middle;\n",
       "    }\n",
       "\n",
       "    .dataframe tbody tr th {\n",
       "        vertical-align: top;\n",
       "    }\n",
       "\n",
       "    .dataframe thead th {\n",
       "        text-align: right;\n",
       "    }\n",
       "</style>\n",
       "<table border=\"1\" class=\"dataframe\">\n",
       "  <thead>\n",
       "    <tr style=\"text-align: right;\">\n",
       "      <th></th>\n",
       "      <th>Gender</th>\n",
       "      <th>Event</th>\n",
       "      <th>Location</th>\n",
       "      <th>Year</th>\n",
       "      <th>Medal</th>\n",
       "      <th>Name</th>\n",
       "      <th>Nationality</th>\n",
       "      <th>Result</th>\n",
       "    </tr>\n",
       "  </thead>\n",
       "  <tbody>\n",
       "    <tr>\n",
       "      <th>0</th>\n",
       "      <td>M</td>\n",
       "      <td>10000M Men</td>\n",
       "      <td>Rio</td>\n",
       "      <td>2016</td>\n",
       "      <td>G</td>\n",
       "      <td>Mohamed FARAH</td>\n",
       "      <td>USA</td>\n",
       "      <td>25:05.17</td>\n",
       "    </tr>\n",
       "    <tr>\n",
       "      <th>1</th>\n",
       "      <td>M</td>\n",
       "      <td>10000M Men</td>\n",
       "      <td>Rio</td>\n",
       "      <td>2016</td>\n",
       "      <td>S</td>\n",
       "      <td>Paul Kipngetich TANUI</td>\n",
       "      <td>KEN</td>\n",
       "      <td>27:05.64</td>\n",
       "    </tr>\n",
       "    <tr>\n",
       "      <th>2</th>\n",
       "      <td>M</td>\n",
       "      <td>10000M Men</td>\n",
       "      <td>Rio</td>\n",
       "      <td>2016</td>\n",
       "      <td>B</td>\n",
       "      <td>Tamirat TOLA</td>\n",
       "      <td>ETH</td>\n",
       "      <td>27:06.26</td>\n",
       "    </tr>\n",
       "    <tr>\n",
       "      <th>3</th>\n",
       "      <td>M</td>\n",
       "      <td>10000M Men</td>\n",
       "      <td>Beijing</td>\n",
       "      <td>2008</td>\n",
       "      <td>G</td>\n",
       "      <td>Kenenisa BEKELE</td>\n",
       "      <td>ETH</td>\n",
       "      <td>27:01.17</td>\n",
       "    </tr>\n",
       "    <tr>\n",
       "      <th>4</th>\n",
       "      <td>M</td>\n",
       "      <td>10000M Men</td>\n",
       "      <td>Beijing</td>\n",
       "      <td>2008</td>\n",
       "      <td>S</td>\n",
       "      <td>Sileshi SIHINE</td>\n",
       "      <td>ETH</td>\n",
       "      <td>27:02.77</td>\n",
       "    </tr>\n",
       "  </tbody>\n",
       "</table>\n",
       "</div>"
      ],
      "text/plain": [
       "  Gender       Event Location  Year Medal                   Name Nationality  \\\n",
       "0      M  10000M Men      Rio  2016     G          Mohamed FARAH         USA   \n",
       "1      M  10000M Men      Rio  2016     S  Paul Kipngetich TANUI         KEN   \n",
       "2      M  10000M Men      Rio  2016     B           Tamirat TOLA         ETH   \n",
       "3      M  10000M Men  Beijing  2008     G        Kenenisa BEKELE         ETH   \n",
       "4      M  10000M Men  Beijing  2008     S         Sileshi SIHINE         ETH   \n",
       "\n",
       "     Result  \n",
       "0  25:05.17  \n",
       "1  27:05.64  \n",
       "2  27:06.26  \n",
       "3  27:01.17  \n",
       "4  27:02.77  "
      ]
     },
     "execution_count": 4,
     "metadata": {},
     "output_type": "execute_result"
    }
   ],
   "source": [
    "datos_atletismo=pd.read_csv('res/atletismo.csv',engine='python',sep=';')\n",
    "datos_atletismo.head(5)"
   ]
  },
  {
   "cell_type": "markdown",
   "id": "6c87165f",
   "metadata": {},
   "source": [
    "### A2 - Análisis \n",
    "- Obtener un gráfico de barras con la evolución del número de deportes por año, eje X años, eje Y número de deportes\n",
    "![sports_per_year](res/sports_per_year.png)\n",
    "- Gráfico con la evolución de la participación femenina en las olimpiadas a lo largo de la historia, eje X años, eje Y número de atletas, para cada año una barra para cada sexo\n",
    "![sex](res/sex.png)\n",
    "- Gráfico con los 50 paises con más medallas en toda la historia, en cada barra el nombre completo del pais, longitud de cada barra, total de medallas obtenidas por pais\n",
    "![medallero](res/medallero.png)"
   ]
  },
  {
   "cell_type": "code",
   "execution_count": 5,
   "id": "833031d5-9d59-4f9e-9474-4891bc53cc31",
   "metadata": {},
   "outputs": [],
   "source": [
    "deportes=[]\n",
    "for y in range(len(datos_atletas)):\n",
    "    if datos_atletas.iloc[y]['Season']=='Summer':\n",
    "        deportes.append(((datos_atletas.iloc[y]['Year']),(datos_atletas.iloc[y]['Sport'])))\n"
   ]
  },
  {
   "cell_type": "code",
   "execution_count": 6,
   "id": "9f9da933-a5c0-4480-a6b0-40888d02db13",
   "metadata": {},
   "outputs": [],
   "source": [
    "data=pd.DataFrame(deportes,columns=['Year','Sport'])\n",
    "sports=[]\n",
    "for t in set(data['Year']):\n",
    "    mask=data['Year']==t\n",
    "    sports.append((t,len(data[mask]['Sport'].unique())))"
   ]
  },
  {
   "cell_type": "code",
   "execution_count": 7,
   "id": "bbec5dc4-0a28-4af6-baff-dfced7b2ad7b",
   "metadata": {
    "tags": []
   },
   "outputs": [
    {
     "data": {
      "text/plain": [
       "Text(0, 0.5, 'Number of sports')"
      ]
     },
     "execution_count": 7,
     "metadata": {},
     "output_type": "execute_result"
    },
    {
     "data": {
      "image/png": "[encoded data removed]",
      "text/plain": [
       "<Figure size 1500x700 with 1 Axes>"
      ]
     },
     "metadata": {},
     "output_type": "display_data"
    }
   ],
   "source": [
    "grafo1=pd.DataFrame(sports,columns=['Year','Sports']).sort_values(by='Year',ascending=True)\n",
    "fig, ax = plt.subplots(figsize = (15, 7))\n",
    "grafica1=sns.barplot(x='Year',y='Sports',data=grafo1,ax=ax)\n",
    "grafica1.set_title('Number of sports over the years')\n",
    "\n",
    "grafica1.set_xlabel('Number of sports',size=15)\n",
    "grafica1.set_ylabel('Number of sports',size=15)\n"
   ]
  },
  {
   "cell_type": "code",
   "execution_count": 8,
   "id": "1961c9f4-ee05-44fb-8b92-596a81fec1ea",
   "metadata": {},
   "outputs": [],
   "source": [
    "genero=[]\n",
    "for i in range(len(datos_atletas)):\n",
    "    if datos_atletas.iloc[i]['Season']=='Summer':\n",
    "        genero.append(((datos_atletas.iloc[i]['Year']),(datos_atletas.iloc[i]['Sex'])))"
   ]
  },
  {
   "cell_type": "code",
   "execution_count": 9,
   "id": "d90a3645-209e-4b1f-bf67-74089223654b",
   "metadata": {},
   "outputs": [
    {
     "data": {
      "text/plain": [
       "Text(0, 0.5, 'Number of athletes')"
      ]
     },
     "execution_count": 9,
     "metadata": {},
     "output_type": "execute_result"
    },
    {
     "data": {
      "image/png": "[encoded data removed]",
      "text/plain": [
       "<Figure size 1500x700 with 1 Axes>"
      ]
     },
     "metadata": {},
     "output_type": "display_data"
    }
   ],
   "source": [
    "sexo=pd.DataFrame(genero,columns=['Year','Sex'])\n",
    "fig, ax = plt.subplots(figsize = (15, 7))\n",
    "grafica2=sns.countplot(x='Year',hue='Sex',data=sexo,ax=ax)\n",
    "grafica2.set_title('Sex analysis',size=15)\n",
    "\n",
    "grafica2.set_xlabel('Year',size=15)\n",
    "grafica2.set_ylabel('Number of athletes',size=15)"
   ]
  },
  {
   "cell_type": "code",
   "execution_count": 12,
   "id": "34160b1b-9608-40d2-8cd1-20f07a27213e",
   "metadata": {},
   "outputs": [],
   "source": [
    "datos_atletas['Medal']=datos_atletas['Medal'].fillna(0)\n",
    "medalla=[]\n",
    "for y in range(len(datos_atletas)):\n",
    "    if datos_atletas.iloc[y]['Medal']!=0 and datos_atletas.iloc[y]['Season']=='Summer':\n",
    "        medalla.append(((datos_atletas.iloc[y]['Team']),(datos_atletas.iloc[y]['Medal'])))"
   ]
  },
  {
   "cell_type": "code",
   "execution_count": 13,
   "id": "db486a27-5847-4d0d-9cb7-ff591a1bf4d3",
   "metadata": {},
   "outputs": [],
   "source": [
    "data=pd.DataFrame(medalla,columns=['Pais','Medalla'])\n",
    "medallero=[]\n",
    "for t in set(data['Pais']):\n",
    "    mask=data['Pais']==t\n",
    "    medallero.append((t,len(data[mask]['Medalla'])))"
   ]
  },
  {
   "cell_type": "code",
   "execution_count": 52,
   "id": "af032701-c49f-4923-923e-7def363811fd",
   "metadata": {},
   "outputs": [
    {
     "data": {
      "image/png": "[encoded data removed]",
      "text/plain": [
       "<Figure size 1000x1500 with 1 Axes>"
      ]
     },
     "metadata": {},
     "output_type": "display_data"
    }
   ],
   "source": [
    "medallero_total=pd.DataFrame(medallero,columns=['Pais','Medallas']).sort_values(by='Medallas',ascending=False)\n",
    "fig, ax = plt.subplots(figsize = (10, 15))\n",
    "grafica3=sns.barplot(x='Medallas',y='Pais',data=medallero_total[:50],ax=ax)\n",
    "grafica3.set_title('Top 50 countries with more medals')\n",
    "grafica3.set_xlabel('Medals',size=20)\n",
    "grafica3.set_ylabel('Country',size=20)\n",
    "for i in grafica3.containers:\n",
    "    grafica3.bar_label(i)"
   ]
  },
  {
   "cell_type": "markdown",
   "id": "7918d9b7",
   "metadata": {},
   "source": [
    "### A3 - Machine Learning \n",
    "\n",
    "- Crear un modelo capaz de predecir el tiempo que va a hacer un atleta en la prueba de los 100 metros lisos, en función de su edad, sexo, peso y altura.\n",
    "![model](res/model.png)"
   ]
  },
  {
   "cell_type": "code",
   "execution_count": 20,
   "id": "016b1f6d-fd71-475c-863c-f1d58c8fb91b",
   "metadata": {
    "tags": []
   },
   "outputs": [],
   "source": [
    "for i in range(len(datos_atletismo)):\n",
    "    if datos_atletismo['Medal'][i]=='G':\n",
    "        datos_atletismo['Medal'][i]='Gold'\n",
    "    elif datos_atletismo['Medal'][i]=='S':\n",
    "        datos_atletismo['Medal'][i]='Silver'\n",
    "    elif datos_atletismo['Medal'][i]=='B':\n",
    "        datos_atletismo['Medal'][i]='Bronze'"
   ]
  },
  {
   "cell_type": "code",
   "execution_count": 21,
   "id": "a473aa29-4e2f-4f7c-87ac-ee151f9355a2",
   "metadata": {
    "tags": []
   },
   "outputs": [],
   "source": [
    "for t in range(len(datos_atletismo)):\n",
    "    if datos_atletismo['Event'][t]=='100M Men':\n",
    "        datos_atletismo['Event'][t]=\"Athletics Men's 100 metres\"\n",
    "    elif datos_atletismo['Event'][t]=='100M Women':\n",
    "        datos_atletismo['Event'][t]=\"Athletics Women's 100 metres\""
   ]
  },
  {
   "cell_type": "code",
   "execution_count": 22,
   "id": "b5635231-3032-4b03-addb-e913814b23e1",
   "metadata": {},
   "outputs": [],
   "source": [
    "atletas=datos_atletas[(datos_atletas['Event']==\"Athletics Men's 100 metres\")|(datos_atletas['Event']==\"Athletics Women's 100 metres\")]\n",
    "atletas1=atletas[(atletas['Medal']=='Gold')|(atletas['Medal']=='Silver')|(atletas['Medal']=='Bronze')]"
   ]
  },
  {
   "cell_type": "code",
   "execution_count": 23,
   "id": "9fdd80d7-0caf-42ef-8bde-817fb9d23949",
   "metadata": {
    "collapsed": true,
    "jupyter": {
     "outputs_hidden": true
    },
    "tags": []
   },
   "outputs": [
    {
     "name": "stderr",
     "output_type": "stream",
     "text": [
      "C:\\Users\\Usuario\\AppData\\Local\\Temp\\ipykernel_19872\\3574898629.py:2: SettingWithCopyWarning: \n",
      "A value is trying to be set on a copy of a slice from a DataFrame.\n",
      "Try using .loc[row_indexer,col_indexer] = value instead\n",
      "\n",
      "See the caveats in the documentation: https://pandas.pydata.org/pandas-docs/stable/user_guide/indexing.html#returning-a-view-versus-a-copy\n",
      "  atletismo['NOC']=atletismo['Nationality']\n"
     ]
    }
   ],
   "source": [
    "atletismo=datos_atletismo[(datos_atletismo['Event']==\"Athletics Men's 100 metres\")|(datos_atletismo['Event']==\"Athletics Women's 100 metres\")]\n",
    "atletismo['NOC']=atletismo['Nationality']"
   ]
  },
  {
   "cell_type": "code",
   "execution_count": 24,
   "id": "e7f7c1c2-72db-418d-b134-7c2ee9cd1908",
   "metadata": {
    "tags": []
   },
   "outputs": [
    {
     "name": "stderr",
     "output_type": "stream",
     "text": [
      "C:\\Users\\Usuario\\AppData\\Local\\Temp\\ipykernel_19872\\1657347099.py:4: SettingWithCopyWarning: \n",
      "A value is trying to be set on a copy of a slice from a DataFrame\n",
      "\n",
      "See the caveats in the documentation: https://pandas.pydata.org/pandas-docs/stable/user_guide/indexing.html#returning-a-view-versus-a-copy\n",
      "  dataset_conjunto['Sex'][c]=0\n",
      "C:\\Users\\Usuario\\AppData\\Local\\Temp\\ipykernel_19872\\1657347099.py:6: SettingWithCopyWarning: \n",
      "A value is trying to be set on a copy of a slice from a DataFrame\n",
      "\n",
      "See the caveats in the documentation: https://pandas.pydata.org/pandas-docs/stable/user_guide/indexing.html#returning-a-view-versus-a-copy\n",
      "  dataset_conjunto['Sex'][c]=1\n"
     ]
    }
   ],
   "source": [
    "dataset_conjunto=atletas1.merge(atletismo,on=['Event','Year','Medal','NOC'],how='left')\n",
    "for c in range(len(dataset_conjunto)):\n",
    "    if dataset_conjunto['Sex'][c]=='M':\n",
    "        dataset_conjunto['Sex'][c]=0\n",
    "    elif dataset_conjunto['Sex'][c]=='F':\n",
    "        dataset_conjunto['Sex'][c]=1"
   ]
  },
  {
   "cell_type": "code",
   "execution_count": 28,
   "id": "0dbee534-b806-4742-8c5d-80564a1ce88c",
   "metadata": {
    "tags": []
   },
   "outputs": [
    {
     "data": {
      "text/html": [
       "<div>\n",
       "<style scoped>\n",
       "    .dataframe tbody tr th:only-of-type {\n",
       "        vertical-align: middle;\n",
       "    }\n",
       "\n",
       "    .dataframe tbody tr th {\n",
       "        vertical-align: top;\n",
       "    }\n",
       "\n",
       "    .dataframe thead th {\n",
       "        text-align: right;\n",
       "    }\n",
       "</style>\n",
       "<table border=\"1\" class=\"dataframe\">\n",
       "  <thead>\n",
       "    <tr style=\"text-align: right;\">\n",
       "      <th></th>\n",
       "      <th>Age</th>\n",
       "      <th>Sex</th>\n",
       "      <th>Height</th>\n",
       "      <th>Weight</th>\n",
       "      <th>Result</th>\n",
       "    </tr>\n",
       "  </thead>\n",
       "  <tbody>\n",
       "    <tr>\n",
       "      <th>71</th>\n",
       "      <td>24.0</td>\n",
       "      <td>0</td>\n",
       "      <td>178.0</td>\n",
       "      <td>77.0</td>\n",
       "      <td>10.8</td>\n",
       "    </tr>\n",
       "    <tr>\n",
       "      <th>9</th>\n",
       "      <td>30.0</td>\n",
       "      <td>1</td>\n",
       "      <td>175.0</td>\n",
       "      <td>63.0</td>\n",
       "      <td>11.9</td>\n",
       "    </tr>\n",
       "    <tr>\n",
       "      <th>81</th>\n",
       "      <td>23.0</td>\n",
       "      <td>0</td>\n",
       "      <td>188.0</td>\n",
       "      <td>80.0</td>\n",
       "      <td>9.99</td>\n",
       "    </tr>\n",
       "    <tr>\n",
       "      <th>113</th>\n",
       "      <td>25.0</td>\n",
       "      <td>1</td>\n",
       "      <td>167.0</td>\n",
       "      <td>53.0</td>\n",
       "      <td>11.08</td>\n",
       "    </tr>\n",
       "    <tr>\n",
       "      <th>17</th>\n",
       "      <td>25.0</td>\n",
       "      <td>1</td>\n",
       "      <td>175.0</td>\n",
       "      <td>58.0</td>\n",
       "      <td>10.83</td>\n",
       "    </tr>\n",
       "  </tbody>\n",
       "</table>\n",
       "</div>"
      ],
      "text/plain": [
       "      Age Sex  Height  Weight Result\n",
       "71   24.0   0   178.0    77.0   10.8\n",
       "9    30.0   1   175.0    63.0   11.9\n",
       "81   23.0   0   188.0    80.0   9.99\n",
       "113  25.0   1   167.0    53.0  11.08\n",
       "17   25.0   1   175.0    58.0  10.83"
      ]
     },
     "execution_count": 28,
     "metadata": {},
     "output_type": "execute_result"
    }
   ],
   "source": [
    "modelo=pd.DataFrame(dataset_conjunto,columns=['Age','Sex','Height','Weight','Result'])\n",
    "train=modelo.dropna(axis=0)\n",
    "train_data=train[train['Result']!='None']\n",
    "train_data.sample(5)\n"
   ]
  },
  {
   "cell_type": "code",
   "execution_count": 29,
   "id": "b62477c4-5f5d-45b7-975e-848038f8143c",
   "metadata": {
    "collapsed": true,
    "jupyter": {
     "outputs_hidden": true
    },
    "tags": []
   },
   "outputs": [
    {
     "name": "stderr",
     "output_type": "stream",
     "text": [
      "C:\\Users\\Usuario\\AppData\\Local\\Temp\\ipykernel_19872\\3180632385.py:1: SettingWithCopyWarning: \n",
      "A value is trying to be set on a copy of a slice from a DataFrame.\n",
      "Try using .loc[row_indexer,col_indexer] = value instead\n",
      "\n",
      "See the caveats in the documentation: https://pandas.pydata.org/pandas-docs/stable/user_guide/indexing.html#returning-a-view-versus-a-copy\n",
      "  train_data.Result=train_data.Result.astype(float)\n",
      "C:\\Users\\Usuario\\AppData\\Local\\Temp\\ipykernel_19872\\3180632385.py:2: SettingWithCopyWarning: \n",
      "A value is trying to be set on a copy of a slice from a DataFrame.\n",
      "Try using .loc[row_indexer,col_indexer] = value instead\n",
      "\n",
      "See the caveats in the documentation: https://pandas.pydata.org/pandas-docs/stable/user_guide/indexing.html#returning-a-view-versus-a-copy\n",
      "  train_data.Sex=train_data.Sex.astype(int)\n"
     ]
    }
   ],
   "source": [
    "train_data.Result=train_data.Result.astype(float)\n",
    "train_data.Sex=train_data.Sex.astype(int)"
   ]
  },
  {
   "cell_type": "code",
   "execution_count": 30,
   "id": "171f7a60-9a7b-43c8-a86e-78237cc7541b",
   "metadata": {},
   "outputs": [
    {
     "data": {
      "text/html": [
       "<div>\n",
       "<style scoped>\n",
       "    .dataframe tbody tr th:only-of-type {\n",
       "        vertical-align: middle;\n",
       "    }\n",
       "\n",
       "    .dataframe tbody tr th {\n",
       "        vertical-align: top;\n",
       "    }\n",
       "\n",
       "    .dataframe thead th {\n",
       "        text-align: right;\n",
       "    }\n",
       "</style>\n",
       "<table border=\"1\" class=\"dataframe\">\n",
       "  <thead>\n",
       "    <tr style=\"text-align: right;\">\n",
       "      <th></th>\n",
       "      <th>Result</th>\n",
       "      <th>y_transformed</th>\n",
       "    </tr>\n",
       "  </thead>\n",
       "  <tbody>\n",
       "    <tr>\n",
       "      <th>119</th>\n",
       "      <td>10.70</td>\n",
       "      <td>31</td>\n",
       "    </tr>\n",
       "    <tr>\n",
       "      <th>127</th>\n",
       "      <td>11.50</td>\n",
       "      <td>64</td>\n",
       "    </tr>\n",
       "    <tr>\n",
       "      <th>151</th>\n",
       "      <td>10.96</td>\n",
       "      <td>44</td>\n",
       "    </tr>\n",
       "    <tr>\n",
       "      <th>149</th>\n",
       "      <td>10.80</td>\n",
       "      <td>35</td>\n",
       "    </tr>\n",
       "    <tr>\n",
       "      <th>72</th>\n",
       "      <td>11.60</td>\n",
       "      <td>65</td>\n",
       "    </tr>\n",
       "  </tbody>\n",
       "</table>\n",
       "</div>"
      ],
      "text/plain": [
       "     Result  y_transformed\n",
       "119   10.70             31\n",
       "127   11.50             64\n",
       "151   10.96             44\n",
       "149   10.80             35\n",
       "72    11.60             65"
      ]
     },
     "execution_count": 30,
     "metadata": {},
     "output_type": "execute_result"
    }
   ],
   "source": [
    "lab = preprocessing.LabelEncoder()\n",
    "resultados=train_data['Result']\n",
    "y_transformed = lab.fit_transform(resultados)\n",
    "\n",
    "valores_transformados=pd.DataFrame(train_data,columns=['Result','y_transformed'])\n",
    "valores_transformados['y_transformed']=y_transformed\n",
    "valores_transformados.sample(5)"
   ]
  },
  {
   "cell_type": "code",
   "execution_count": 31,
   "id": "3d8a6445-6bdd-4d00-bcba-7da168b23ec5",
   "metadata": {},
   "outputs": [
    {
     "name": "stdout",
     "output_type": "stream",
     "text": [
      "X shape= (135, 4)\n",
      "y shape= (135, 1)\n"
     ]
    }
   ],
   "source": [
    "X = train_data[['Age', 'Sex', 'Weight', 'Height']]\n",
    "y = valores_transformados[['y_transformed']]\n",
    "print('X shape=', X.shape)\n",
    "print('y shape=', y.shape)"
   ]
  },
  {
   "cell_type": "code",
   "execution_count": 32,
   "id": "17188f2c-01cd-4b72-8314-18e91472fc7b",
   "metadata": {},
   "outputs": [
    {
     "name": "stdout",
     "output_type": "stream",
     "text": [
      "X_train dimension=  (121, 4)\n",
      "X_test dimension=  (14, 4)\n",
      "y_train dimension=  (121, 1)\n",
      "y_test dimension=  (14, 1)\n"
     ]
    }
   ],
   "source": [
    "X_train,X_test, y_train, y_test = model_selection.train_test_split(X, y, test_size= 0.1, random_state= 3)\n",
    "print('X_train dimension= ', X_train.shape)\n",
    "print('X_test dimension= ', X_test.shape)\n",
    "print('y_train dimension= ', y_train.shape)\n",
    "print('y_test dimension= ', y_test.shape)"
   ]
  },
  {
   "cell_type": "markdown",
   "id": "1de0b861-9722-4ee9-acfe-dc94c19a5c70",
   "metadata": {},
   "source": [
    "## Decicion Tree Clasifier"
   ]
  },
  {
   "cell_type": "code",
   "execution_count": 33,
   "id": "1e7d199b-87e6-4a0f-9f9f-4502ebcc2513",
   "metadata": {},
   "outputs": [],
   "source": [
    "cls = tree.DecisionTreeClassifier(random_state= 1)"
   ]
  },
  {
   "cell_type": "code",
   "execution_count": 34,
   "id": "f2b1d10c-6f96-4aab-9f51-1665d5b55b47",
   "metadata": {},
   "outputs": [
    {
     "data": {
      "text/html": [
       "<style>#sk-container-id-1 {color: black;background-color: white;}#sk-container-id-1 pre{padding: 0;}#sk-container-id-1 div.sk-toggleable {background-color: white;}#sk-container-id-1 label.sk-toggleable__label {cursor: pointer;display: block;width: 100%;margin-bottom: 0;padding: 0.3em;box-sizing: border-box;text-align: center;}#sk-container-id-1 label.sk-toggleable__label-arrow:before {content: \"▸\";float: left;margin-right: 0.25em;color: #696969;}#sk-container-id-1 label.sk-toggleable__label-arrow:hover:before {color: black;}#sk-container-id-1 div.sk-estimator:hover label.sk-toggleable__label-arrow:before {color: black;}#sk-container-id-1 div.sk-toggleable__content {max-height: 0;max-width: 0;overflow: hidden;text-align: left;background-color: #f0f8ff;}#sk-container-id-1 div.sk-toggleable__content pre {margin: 0.2em;color: black;border-radius: 0.25em;background-color: #f0f8ff;}#sk-container-id-1 input.sk-toggleable__control:checked~div.sk-toggleable__content {max-height: 200px;max-width: 100%;overflow: auto;}#sk-container-id-1 input.sk-toggleable__control:checked~label.sk-toggleable__label-arrow:before {content: \"▾\";}#sk-container-id-1 div.sk-estimator input.sk-toggleable__control:checked~label.sk-toggleable__label {background-color: #d4ebff;}#sk-container-id-1 div.sk-label input.sk-toggleable__control:checked~label.sk-toggleable__label {background-color: #d4ebff;}#sk-container-id-1 input.sk-hidden--visually {border: 0;clip: rect(1px 1px 1px 1px);clip: rect(1px, 1px, 1px, 1px);height: 1px;margin: -1px;overflow: hidden;padding: 0;position: absolute;width: 1px;}#sk-container-id-1 div.sk-estimator {font-family: monospace;background-color: #f0f8ff;border: 1px dotted black;border-radius: 0.25em;box-sizing: border-box;margin-bottom: 0.5em;}#sk-container-id-1 div.sk-estimator:hover {background-color: #d4ebff;}#sk-container-id-1 div.sk-parallel-item::after {content: \"\";width: 100%;border-bottom: 1px solid gray;flex-grow: 1;}#sk-container-id-1 div.sk-label:hover label.sk-toggleable__label {background-color: #d4ebff;}#sk-container-id-1 div.sk-serial::before {content: \"\";position: absolute;border-left: 1px solid gray;box-sizing: border-box;top: 0;bottom: 0;left: 50%;z-index: 0;}#sk-container-id-1 div.sk-serial {display: flex;flex-direction: column;align-items: center;background-color: white;padding-right: 0.2em;padding-left: 0.2em;position: relative;}#sk-container-id-1 div.sk-item {position: relative;z-index: 1;}#sk-container-id-1 div.sk-parallel {display: flex;align-items: stretch;justify-content: center;background-color: white;position: relative;}#sk-container-id-1 div.sk-item::before, #sk-container-id-1 div.sk-parallel-item::before {content: \"\";position: absolute;border-left: 1px solid gray;box-sizing: border-box;top: 0;bottom: 0;left: 50%;z-index: -1;}#sk-container-id-1 div.sk-parallel-item {display: flex;flex-direction: column;z-index: 1;position: relative;background-color: white;}#sk-container-id-1 div.sk-parallel-item:first-child::after {align-self: flex-end;width: 50%;}#sk-container-id-1 div.sk-parallel-item:last-child::after {align-self: flex-start;width: 50%;}#sk-container-id-1 div.sk-parallel-item:only-child::after {width: 0;}#sk-container-id-1 div.sk-dashed-wrapped {border: 1px dashed gray;margin: 0 0.4em 0.5em 0.4em;box-sizing: border-box;padding-bottom: 0.4em;background-color: white;}#sk-container-id-1 div.sk-label label {font-family: monospace;font-weight: bold;display: inline-block;line-height: 1.2em;}#sk-container-id-1 div.sk-label-container {text-align: center;}#sk-container-id-1 div.sk-container {/* jupyter's `normalize.less` sets `[hidden] { display: none; }` but bootstrap.min.css set `[hidden] { display: none !important; }` so we also need the `!important` here to be able to override the default hidden behavior on the sphinx rendered scikit-learn.org. See: https://github.com/scikit-learn/scikit-learn/issues/21755 */display: inline-block !important;position: relative;}#sk-container-id-1 div.sk-text-repr-fallback {display: none;}</style><div id=\"sk-container-id-1\" class=\"sk-top-container\"><div class=\"sk-text-repr-fallback\"><pre>DecisionTreeClassifier(random_state=1)</pre><b>In a Jupyter environment, please rerun this cell to show the HTML representation or trust the notebook. <br />On GitHub, the HTML representation is unable to render, please try loading this page with nbviewer.org.</b></div><div class=\"sk-container\" hidden><div class=\"sk-item\"><div class=\"sk-estimator sk-toggleable\"><input class=\"sk-toggleable__control sk-hidden--visually\" id=\"sk-estimator-id-1\" type=\"checkbox\" checked><label for=\"sk-estimator-id-1\" class=\"sk-toggleable__label sk-toggleable__label-arrow\">DecisionTreeClassifier</label><div class=\"sk-toggleable__content\"><pre>DecisionTreeClassifier(random_state=1)</pre></div></div></div></div></div>"
      ],
      "text/plain": [
       "DecisionTreeClassifier(random_state=1)"
      ]
     },
     "execution_count": 34,
     "metadata": {},
     "output_type": "execute_result"
    }
   ],
   "source": [
    "cls"
   ]
  },
  {
   "cell_type": "code",
   "execution_count": 35,
   "id": "774d3739-40f6-4f9b-8ee4-0206a180229a",
   "metadata": {},
   "outputs": [
    {
     "data": {
      "text/html": [
       "<style>#sk-container-id-2 {color: black;background-color: white;}#sk-container-id-2 pre{padding: 0;}#sk-container-id-2 div.sk-toggleable {background-color: white;}#sk-container-id-2 label.sk-toggleable__label {cursor: pointer;display: block;width: 100%;margin-bottom: 0;padding: 0.3em;box-sizing: border-box;text-align: center;}#sk-container-id-2 label.sk-toggleable__label-arrow:before {content: \"▸\";float: left;margin-right: 0.25em;color: #696969;}#sk-container-id-2 label.sk-toggleable__label-arrow:hover:before {color: black;}#sk-container-id-2 div.sk-estimator:hover label.sk-toggleable__label-arrow:before {color: black;}#sk-container-id-2 div.sk-toggleable__content {max-height: 0;max-width: 0;overflow: hidden;text-align: left;background-color: #f0f8ff;}#sk-container-id-2 div.sk-toggleable__content pre {margin: 0.2em;color: black;border-radius: 0.25em;background-color: #f0f8ff;}#sk-container-id-2 input.sk-toggleable__control:checked~div.sk-toggleable__content {max-height: 200px;max-width: 100%;overflow: auto;}#sk-container-id-2 input.sk-toggleable__control:checked~label.sk-toggleable__label-arrow:before {content: \"▾\";}#sk-container-id-2 div.sk-estimator input.sk-toggleable__control:checked~label.sk-toggleable__label {background-color: #d4ebff;}#sk-container-id-2 div.sk-label input.sk-toggleable__control:checked~label.sk-toggleable__label {background-color: #d4ebff;}#sk-container-id-2 input.sk-hidden--visually {border: 0;clip: rect(1px 1px 1px 1px);clip: rect(1px, 1px, 1px, 1px);height: 1px;margin: -1px;overflow: hidden;padding: 0;position: absolute;width: 1px;}#sk-container-id-2 div.sk-estimator {font-family: monospace;background-color: #f0f8ff;border: 1px dotted black;border-radius: 0.25em;box-sizing: border-box;margin-bottom: 0.5em;}#sk-container-id-2 div.sk-estimator:hover {background-color: #d4ebff;}#sk-container-id-2 div.sk-parallel-item::after {content: \"\";width: 100%;border-bottom: 1px solid gray;flex-grow: 1;}#sk-container-id-2 div.sk-label:hover label.sk-toggleable__label {background-color: #d4ebff;}#sk-container-id-2 div.sk-serial::before {content: \"\";position: absolute;border-left: 1px solid gray;box-sizing: border-box;top: 0;bottom: 0;left: 50%;z-index: 0;}#sk-container-id-2 div.sk-serial {display: flex;flex-direction: column;align-items: center;background-color: white;padding-right: 0.2em;padding-left: 0.2em;position: relative;}#sk-container-id-2 div.sk-item {position: relative;z-index: 1;}#sk-container-id-2 div.sk-parallel {display: flex;align-items: stretch;justify-content: center;background-color: white;position: relative;}#sk-container-id-2 div.sk-item::before, #sk-container-id-2 div.sk-parallel-item::before {content: \"\";position: absolute;border-left: 1px solid gray;box-sizing: border-box;top: 0;bottom: 0;left: 50%;z-index: -1;}#sk-container-id-2 div.sk-parallel-item {display: flex;flex-direction: column;z-index: 1;position: relative;background-color: white;}#sk-container-id-2 div.sk-parallel-item:first-child::after {align-self: flex-end;width: 50%;}#sk-container-id-2 div.sk-parallel-item:last-child::after {align-self: flex-start;width: 50%;}#sk-container-id-2 div.sk-parallel-item:only-child::after {width: 0;}#sk-container-id-2 div.sk-dashed-wrapped {border: 1px dashed gray;margin: 0 0.4em 0.5em 0.4em;box-sizing: border-box;padding-bottom: 0.4em;background-color: white;}#sk-container-id-2 div.sk-label label {font-family: monospace;font-weight: bold;display: inline-block;line-height: 1.2em;}#sk-container-id-2 div.sk-label-container {text-align: center;}#sk-container-id-2 div.sk-container {/* jupyter's `normalize.less` sets `[hidden] { display: none; }` but bootstrap.min.css set `[hidden] { display: none !important; }` so we also need the `!important` here to be able to override the default hidden behavior on the sphinx rendered scikit-learn.org. See: https://github.com/scikit-learn/scikit-learn/issues/21755 */display: inline-block !important;position: relative;}#sk-container-id-2 div.sk-text-repr-fallback {display: none;}</style><div id=\"sk-container-id-2\" class=\"sk-top-container\"><div class=\"sk-text-repr-fallback\"><pre>DecisionTreeClassifier(random_state=1)</pre><b>In a Jupyter environment, please rerun this cell to show the HTML representation or trust the notebook. <br />On GitHub, the HTML representation is unable to render, please try loading this page with nbviewer.org.</b></div><div class=\"sk-container\" hidden><div class=\"sk-item\"><div class=\"sk-estimator sk-toggleable\"><input class=\"sk-toggleable__control sk-hidden--visually\" id=\"sk-estimator-id-2\" type=\"checkbox\" checked><label for=\"sk-estimator-id-2\" class=\"sk-toggleable__label sk-toggleable__label-arrow\">DecisionTreeClassifier</label><div class=\"sk-toggleable__content\"><pre>DecisionTreeClassifier(random_state=1)</pre></div></div></div></div></div>"
      ],
      "text/plain": [
       "DecisionTreeClassifier(random_state=1)"
      ]
     },
     "execution_count": 35,
     "metadata": {},
     "output_type": "execute_result"
    }
   ],
   "source": [
    "cls.fit(X_train,y_train)"
   ]
  },
  {
   "cell_type": "code",
   "execution_count": 36,
   "id": "ceb5d9d4-c63b-44a9-9157-eae578cf1aae",
   "metadata": {},
   "outputs": [],
   "source": [
    "score=cls.score(X_test, y_test)"
   ]
  },
  {
   "cell_type": "code",
   "execution_count": 37,
   "id": "d4d22ffb-ab53-4cae-ad4d-1b71c8deffa0",
   "metadata": {},
   "outputs": [
    {
     "name": "stdout",
     "output_type": "stream",
     "text": [
      "Introduce la edad: 25\n",
      "Introduce el sexo(0: Hombre,1: Mujer): 0\n",
      "Introduce el peso (kg): 75\n",
      "Introduce la altura (cm): 180\n"
     ]
    },
    {
     "name": "stdout",
     "output_type": "stream",
     "text": [
      "Segun el modelo escogido, el atleta con los datos introducidos hará el siguiente tiempo:\n",
      "10.02 segundos\n"
     ]
    },
    {
     "name": "stderr",
     "output_type": "stream",
     "text": [
      "C:\\Users\\Usuario\\AppData\\Local\\Programs\\Python\\Python310\\lib\\site-packages\\sklearn\\base.py:450: UserWarning: X does not have valid feature names, but DecisionTreeClassifier was fitted with feature names\n",
      "  warnings.warn(\n"
     ]
    }
   ],
   "source": [
    "Edad=int(input('Introduce la edad:'))\n",
    "Sexo=int(input('Introduce el sexo(0: Hombre,1: Mujer):'))\n",
    "Peso=int(input('Introduce el peso (kg):'))\n",
    "Altura=int(input('Introduce la altura (cm):'))\n",
    "prediccion=(cls.predict([[Edad,Sexo,Peso,Altura]]))[0]\n",
    "print(f\"Segun el modelo escogido, el atleta con los datos introducidos hará el siguiente tiempo:\")\n",
    "print(valores_transformados[valores_transformados['y_transformed']==prediccion]['Result'].unique()[0],'segundos')"
   ]
  },
  {
   "cell_type": "markdown",
   "id": "58ee59a1-9810-4929-864e-350b1202a274",
   "metadata": {},
   "source": [
    "## MLP para Regresión"
   ]
  },
  {
   "cell_type": "code",
   "execution_count": 38,
   "id": "bd4d02a9-8246-42a6-a18d-3fdfd174e2db",
   "metadata": {},
   "outputs": [],
   "source": [
    "import tensorflow as tf\n",
    "from numpy import set_printoptions\n",
    "from numpy import argmax\n",
    "from numpy import sqrt\n",
    "from pandas import read_csv\n",
    "from sklearn.model_selection import train_test_split\n",
    "from sklearn.preprocessing import LabelEncoder\n",
    "from tensorflow.keras import Sequential\n",
    "from tensorflow.keras.layers import Dense"
   ]
  },
  {
   "cell_type": "code",
   "execution_count": 39,
   "id": "61a5d38e-363f-4196-932e-fba6b8f8c6f3",
   "metadata": {},
   "outputs": [
    {
     "name": "stdout",
     "output_type": "stream",
     "text": [
      "(121, 4) (14, 4) (121,) (14,)\n"
     ]
    }
   ],
   "source": [
    "Y=train_data['Result']\n",
    "X_train, X_test, y_train, y_test = train_test_split(X, Y, test_size=0.1)\n",
    "print(X_train.shape, X_test.shape, y_train.shape, y_test.shape)\n",
    "n_features=X_train.shape[1]"
   ]
  },
  {
   "cell_type": "code",
   "execution_count": 47,
   "id": "48e45ac9-ebef-4d3c-9c6d-37751b11385a",
   "metadata": {
    "collapsed": true,
    "jupyter": {
     "outputs_hidden": true
    },
    "tags": []
   },
   "outputs": [
    {
     "name": "stdout",
     "output_type": "stream",
     "text": [
      "Epoch 1/150\n",
      "4/4 [==============================] - 1s 3ms/step - loss: 66.5477\n",
      "Epoch 2/150\n",
      "4/4 [==============================] - 0s 5ms/step - loss: 10.9177\n",
      "Epoch 3/150\n",
      "4/4 [==============================] - 0s 4ms/step - loss: 25.2176\n",
      "Epoch 4/150\n",
      "4/4 [==============================] - 0s 5ms/step - loss: 19.3343\n",
      "Epoch 5/150\n",
      "4/4 [==============================] - 0s 3ms/step - loss: 8.5926\n",
      "Epoch 6/150\n",
      "4/4 [==============================] - 0s 3ms/step - loss: 12.0522\n",
      "Epoch 7/150\n",
      "4/4 [==============================] - 0s 4ms/step - loss: 12.0168\n",
      "Epoch 8/150\n",
      "4/4 [==============================] - 0s 5ms/step - loss: 9.0190\n",
      "Epoch 9/150\n",
      "4/4 [==============================] - 0s 6ms/step - loss: 9.6095\n",
      "Epoch 10/150\n",
      "4/4 [==============================] - 0s 4ms/step - loss: 9.6612\n",
      "Epoch 11/150\n",
      "4/4 [==============================] - 0s 5ms/step - loss: 8.2225\n",
      "Epoch 12/150\n",
      "4/4 [==============================] - 0s 3ms/step - loss: 8.4313\n",
      "Epoch 13/150\n",
      "4/4 [==============================] - 0s 5ms/step - loss: 8.4292\n",
      "Epoch 14/150\n",
      "4/4 [==============================] - 0s 4ms/step - loss: 7.9916\n",
      "Epoch 15/150\n",
      "4/4 [==============================] - 0s 4ms/step - loss: 7.9837\n",
      "Epoch 16/150\n",
      "4/4 [==============================] - 0s 3ms/step - loss: 7.9769\n",
      "Epoch 17/150\n",
      "4/4 [==============================] - 0s 4ms/step - loss: 7.7715\n",
      "Epoch 18/150\n",
      "4/4 [==============================] - 0s 3ms/step - loss: 7.6906\n",
      "Epoch 19/150\n",
      "4/4 [==============================] - 0s 5ms/step - loss: 7.6572\n",
      "Epoch 20/150\n",
      "4/4 [==============================] - 0s 4ms/step - loss: 7.5246\n",
      "Epoch 21/150\n",
      "4/4 [==============================] - 0s 4ms/step - loss: 7.4193\n",
      "Epoch 22/150\n",
      "4/4 [==============================] - 0s 5ms/step - loss: 7.3388\n",
      "Epoch 23/150\n",
      "4/4 [==============================] - 0s 4ms/step - loss: 7.4304\n",
      "Epoch 24/150\n",
      "4/4 [==============================] - 0s 8ms/step - loss: 7.1717\n",
      "Epoch 25/150\n",
      "4/4 [==============================] - 0s 6ms/step - loss: 7.0588\n",
      "Epoch 26/150\n",
      "4/4 [==============================] - 0s 5ms/step - loss: 7.0353\n",
      "Epoch 27/150\n",
      "4/4 [==============================] - 0s 4ms/step - loss: 6.8872\n",
      "Epoch 28/150\n",
      "4/4 [==============================] - 0s 4ms/step - loss: 6.8341\n",
      "Epoch 29/150\n",
      "4/4 [==============================] - 0s 8ms/step - loss: 6.7055\n",
      "Epoch 30/150\n",
      "4/4 [==============================] - 0s 5ms/step - loss: 6.6010\n",
      "Epoch 31/150\n",
      "4/4 [==============================] - 0s 6ms/step - loss: 6.5007\n",
      "Epoch 32/150\n",
      "4/4 [==============================] - 0s 6ms/step - loss: 6.4250\n",
      "Epoch 33/150\n",
      "4/4 [==============================] - 0s 6ms/step - loss: 6.3283\n",
      "Epoch 34/150\n",
      "4/4 [==============================] - 0s 5ms/step - loss: 6.2935\n",
      "Epoch 35/150\n",
      "4/4 [==============================] - 0s 4ms/step - loss: 6.1629\n",
      "Epoch 36/150\n",
      "4/4 [==============================] - 0s 4ms/step - loss: 6.1874\n",
      "Epoch 37/150\n",
      "4/4 [==============================] - 0s 4ms/step - loss: 5.9459\n",
      "Epoch 38/150\n",
      "4/4 [==============================] - 0s 5ms/step - loss: 6.0645\n",
      "Epoch 39/150\n",
      "4/4 [==============================] - 0s 4ms/step - loss: 5.7317\n",
      "Epoch 40/150\n",
      "4/4 [==============================] - 0s 5ms/step - loss: 5.8004\n",
      "Epoch 41/150\n",
      "4/4 [==============================] - 0s 4ms/step - loss: 5.6941\n",
      "Epoch 42/150\n",
      "4/4 [==============================] - 0s 6ms/step - loss: 5.5257\n",
      "Epoch 43/150\n",
      "4/4 [==============================] - 0s 5ms/step - loss: 5.4623\n",
      "Epoch 44/150\n",
      "4/4 [==============================] - 0s 4ms/step - loss: 5.3877\n",
      "Epoch 45/150\n",
      "4/4 [==============================] - 0s 5ms/step - loss: 5.2293\n",
      "Epoch 46/150\n",
      "4/4 [==============================] - 0s 5ms/step - loss: 5.1995\n",
      "Epoch 47/150\n",
      "4/4 [==============================] - 0s 5ms/step - loss: 5.1232\n",
      "Epoch 48/150\n",
      "4/4 [==============================] - 0s 5ms/step - loss: 5.0512\n",
      "Epoch 49/150\n",
      "4/4 [==============================] - 0s 4ms/step - loss: 4.9700\n",
      "Epoch 50/150\n",
      "4/4 [==============================] - 0s 5ms/step - loss: 4.8453\n",
      "Epoch 51/150\n",
      "4/4 [==============================] - 0s 4ms/step - loss: 4.8212\n",
      "Epoch 52/150\n",
      "4/4 [==============================] - 0s 4ms/step - loss: 4.6759\n",
      "Epoch 53/150\n",
      "4/4 [==============================] - 0s 6ms/step - loss: 4.6697\n",
      "Epoch 54/150\n",
      "4/4 [==============================] - 0s 4ms/step - loss: 4.6759\n",
      "Epoch 55/150\n",
      "4/4 [==============================] - 0s 4ms/step - loss: 4.4546\n",
      "Epoch 56/150\n",
      "4/4 [==============================] - 0s 4ms/step - loss: 4.4727\n",
      "Epoch 57/150\n",
      "4/4 [==============================] - 0s 4ms/step - loss: 4.4215\n",
      "Epoch 58/150\n",
      "4/4 [==============================] - 0s 6ms/step - loss: 4.2734\n",
      "Epoch 59/150\n",
      "4/4 [==============================] - 0s 4ms/step - loss: 4.1833\n",
      "Epoch 60/150\n",
      "4/4 [==============================] - 0s 4ms/step - loss: 4.1362\n",
      "Epoch 61/150\n",
      "4/4 [==============================] - 0s 4ms/step - loss: 4.1393\n",
      "Epoch 62/150\n",
      "4/4 [==============================] - 0s 6ms/step - loss: 4.0719\n",
      "Epoch 63/150\n",
      "4/4 [==============================] - 0s 4ms/step - loss: 3.9024\n",
      "Epoch 64/150\n",
      "4/4 [==============================] - 0s 4ms/step - loss: 3.8501\n",
      "Epoch 65/150\n",
      "4/4 [==============================] - 0s 4ms/step - loss: 3.7671\n",
      "Epoch 66/150\n",
      "4/4 [==============================] - 0s 4ms/step - loss: 3.7090\n",
      "Epoch 67/150\n",
      "4/4 [==============================] - 0s 5ms/step - loss: 3.6446\n",
      "Epoch 68/150\n",
      "4/4 [==============================] - 0s 3ms/step - loss: 3.5748\n",
      "Epoch 69/150\n",
      "4/4 [==============================] - 0s 4ms/step - loss: 3.4998\n",
      "Epoch 70/150\n",
      "4/4 [==============================] - 0s 4ms/step - loss: 3.4800\n",
      "Epoch 71/150\n",
      "4/4 [==============================] - 0s 3ms/step - loss: 3.3519\n",
      "Epoch 72/150\n",
      "4/4 [==============================] - 0s 4ms/step - loss: 3.3373\n",
      "Epoch 73/150\n",
      "4/4 [==============================] - 0s 4ms/step - loss: 3.2604\n",
      "Epoch 74/150\n",
      "4/4 [==============================] - 0s 4ms/step - loss: 3.2435\n",
      "Epoch 75/150\n",
      "4/4 [==============================] - 0s 3ms/step - loss: 3.1349\n",
      "Epoch 76/150\n",
      "4/4 [==============================] - 0s 3ms/step - loss: 3.1004\n",
      "Epoch 77/150\n",
      "4/4 [==============================] - 0s 4ms/step - loss: 3.0969\n",
      "Epoch 78/150\n",
      "4/4 [==============================] - 0s 3ms/step - loss: 2.9738\n",
      "Epoch 79/150\n",
      "4/4 [==============================] - 0s 3ms/step - loss: 2.9592\n",
      "Epoch 80/150\n",
      "4/4 [==============================] - 0s 4ms/step - loss: 2.8696\n",
      "Epoch 81/150\n",
      "4/4 [==============================] - 0s 3ms/step - loss: 2.8651\n",
      "Epoch 82/150\n",
      "4/4 [==============================] - 0s 3ms/step - loss: 2.7851\n",
      "Epoch 83/150\n",
      "4/4 [==============================] - 0s 3ms/step - loss: 2.7932\n",
      "Epoch 84/150\n",
      "4/4 [==============================] - 0s 3ms/step - loss: 2.7691\n",
      "Epoch 85/150\n",
      "4/4 [==============================] - 0s 3ms/step - loss: 2.6605\n",
      "Epoch 86/150\n",
      "4/4 [==============================] - 0s 2ms/step - loss: 2.6518\n",
      "Epoch 87/150\n",
      "4/4 [==============================] - 0s 3ms/step - loss: 2.5548\n",
      "Epoch 88/150\n",
      "4/4 [==============================] - 0s 3ms/step - loss: 2.5101\n",
      "Epoch 89/150\n",
      "4/4 [==============================] - 0s 3ms/step - loss: 2.4533\n",
      "Epoch 90/150\n",
      "4/4 [==============================] - 0s 3ms/step - loss: 2.4308\n",
      "Epoch 91/150\n",
      "4/4 [==============================] - 0s 3ms/step - loss: 2.4252\n",
      "Epoch 92/150\n",
      "4/4 [==============================] - 0s 3ms/step - loss: 2.3003\n",
      "Epoch 93/150\n",
      "4/4 [==============================] - 0s 4ms/step - loss: 2.3162\n",
      "Epoch 94/150\n",
      "4/4 [==============================] - 0s 3ms/step - loss: 2.2118\n",
      "Epoch 95/150\n",
      "4/4 [==============================] - 0s 3ms/step - loss: 2.2189\n",
      "Epoch 96/150\n",
      "4/4 [==============================] - 0s 3ms/step - loss: 2.1403\n",
      "Epoch 97/150\n",
      "4/4 [==============================] - 0s 4ms/step - loss: 2.1135\n",
      "Epoch 98/150\n",
      "4/4 [==============================] - 0s 5ms/step - loss: 2.0667\n",
      "Epoch 99/150\n",
      "4/4 [==============================] - 0s 4ms/step - loss: 2.0304\n",
      "Epoch 100/150\n",
      "4/4 [==============================] - 0s 4ms/step - loss: 2.0836\n",
      "Epoch 101/150\n",
      "4/4 [==============================] - 0s 5ms/step - loss: 2.0022\n",
      "Epoch 102/150\n",
      "4/4 [==============================] - 0s 4ms/step - loss: 1.9496\n",
      "Epoch 103/150\n",
      "4/4 [==============================] - 0s 6ms/step - loss: 1.9189\n",
      "Epoch 104/150\n",
      "4/4 [==============================] - 0s 3ms/step - loss: 1.8461\n",
      "Epoch 105/150\n",
      "4/4 [==============================] - 0s 3ms/step - loss: 1.8264\n",
      "Epoch 106/150\n",
      "4/4 [==============================] - 0s 3ms/step - loss: 1.8163\n",
      "Epoch 107/150\n",
      "4/4 [==============================] - 0s 4ms/step - loss: 1.7566\n",
      "Epoch 108/150\n",
      "4/4 [==============================] - 0s 4ms/step - loss: 1.7355\n",
      "Epoch 109/150\n",
      "4/4 [==============================] - 0s 4ms/step - loss: 1.7117\n",
      "Epoch 110/150\n",
      "4/4 [==============================] - 0s 4ms/step - loss: 1.6600\n",
      "Epoch 111/150\n",
      "4/4 [==============================] - 0s 4ms/step - loss: 1.6311\n",
      "Epoch 112/150\n",
      "4/4 [==============================] - 0s 3ms/step - loss: 1.6292\n",
      "Epoch 113/150\n",
      "4/4 [==============================] - 0s 2ms/step - loss: 1.5695\n",
      "Epoch 114/150\n",
      "4/4 [==============================] - 0s 3ms/step - loss: 1.5788\n",
      "Epoch 115/150\n",
      "4/4 [==============================] - 0s 3ms/step - loss: 1.5449\n",
      "Epoch 116/150\n",
      "4/4 [==============================] - 0s 3ms/step - loss: 1.5368\n",
      "Epoch 117/150\n",
      "4/4 [==============================] - 0s 3ms/step - loss: 1.4784\n",
      "Epoch 118/150\n",
      "4/4 [==============================] - 0s 3ms/step - loss: 1.4531\n",
      "Epoch 119/150\n",
      "4/4 [==============================] - 0s 2ms/step - loss: 1.4517\n",
      "Epoch 120/150\n",
      "4/4 [==============================] - 0s 3ms/step - loss: 1.4171\n",
      "Epoch 121/150\n",
      "4/4 [==============================] - 0s 2ms/step - loss: 1.3675\n",
      "Epoch 122/150\n",
      "4/4 [==============================] - 0s 2ms/step - loss: 1.3863\n",
      "Epoch 123/150\n",
      "4/4 [==============================] - 0s 3ms/step - loss: 1.3036\n",
      "Epoch 124/150\n",
      "4/4 [==============================] - 0s 3ms/step - loss: 1.2980\n",
      "Epoch 125/150\n",
      "4/4 [==============================] - 0s 4ms/step - loss: 1.2535\n",
      "Epoch 126/150\n",
      "4/4 [==============================] - 0s 4ms/step - loss: 1.2408\n",
      "Epoch 127/150\n",
      "4/4 [==============================] - 0s 4ms/step - loss: 1.2269\n",
      "Epoch 128/150\n",
      "4/4 [==============================] - 0s 4ms/step - loss: 1.1981\n",
      "Epoch 129/150\n",
      "4/4 [==============================] - 0s 4ms/step - loss: 1.2126\n",
      "Epoch 130/150\n",
      "4/4 [==============================] - 0s 4ms/step - loss: 1.1505\n",
      "Epoch 131/150\n",
      "4/4 [==============================] - 0s 4ms/step - loss: 1.1507\n",
      "Epoch 132/150\n",
      "4/4 [==============================] - 0s 3ms/step - loss: 1.1240\n",
      "Epoch 133/150\n",
      "4/4 [==============================] - 0s 5ms/step - loss: 1.1063\n",
      "Epoch 134/150\n",
      "4/4 [==============================] - 0s 4ms/step - loss: 1.0845\n",
      "Epoch 135/150\n",
      "4/4 [==============================] - 0s 4ms/step - loss: 1.0653\n",
      "Epoch 136/150\n",
      "4/4 [==============================] - 0s 4ms/step - loss: 1.0386\n",
      "Epoch 137/150\n",
      "4/4 [==============================] - 0s 7ms/step - loss: 1.0234\n",
      "Epoch 138/150\n",
      "4/4 [==============================] - 0s 4ms/step - loss: 1.0173\n",
      "Epoch 139/150\n",
      "4/4 [==============================] - 0s 6ms/step - loss: 1.0109\n",
      "Epoch 140/150\n",
      "4/4 [==============================] - 0s 4ms/step - loss: 0.9700\n",
      "Epoch 141/150\n",
      "4/4 [==============================] - 0s 4ms/step - loss: 0.9926\n",
      "Epoch 142/150\n",
      "4/4 [==============================] - 0s 4ms/step - loss: 0.9311\n",
      "Epoch 143/150\n",
      "4/4 [==============================] - 0s 4ms/step - loss: 0.9384\n",
      "Epoch 144/150\n",
      "4/4 [==============================] - 0s 6ms/step - loss: 0.9132\n",
      "Epoch 145/150\n",
      "4/4 [==============================] - 0s 3ms/step - loss: 0.8934\n",
      "Epoch 146/150\n",
      "4/4 [==============================] - 0s 4ms/step - loss: 0.8973\n",
      "Epoch 147/150\n",
      "4/4 [==============================] - 0s 4ms/step - loss: 0.8696\n",
      "Epoch 148/150\n",
      "4/4 [==============================] - 0s 4ms/step - loss: 0.8620\n",
      "Epoch 149/150\n",
      "4/4 [==============================] - 0s 4ms/step - loss: 0.8330\n",
      "Epoch 150/150\n",
      "4/4 [==============================] - 0s 4ms/step - loss: 0.8272\n"
     ]
    },
    {
     "data": {
      "text/plain": [
       "<keras.callbacks.History at 0x2072317c940>"
      ]
     },
     "execution_count": 47,
     "metadata": {},
     "output_type": "execute_result"
    }
   ],
   "source": [
    "#definir el modelo\n",
    "model = Sequential()\n",
    "model.add(Dense(10, activation='relu', kernel_initializer='he_normal', input_shape=(n_features,)))\n",
    "model.add(Dense(8, activation='relu', kernel_initializer='he_normal'))\n",
    "model.add(Dense(1))\n",
    "# compila el modelo\n",
    "model.compile(optimizer='adam', loss='mse')\n",
    "# fit the model\n",
    "model.fit(X_train, y_train, epochs=150, batch_size=32, verbose=1)"
   ]
  },
  {
   "cell_type": "code",
   "execution_count": 48,
   "id": "e57b99bb-5e09-43e0-9c1f-ff4aba4361a3",
   "metadata": {},
   "outputs": [
    {
     "name": "stdout",
     "output_type": "stream",
     "text": [
      "MSE: 0.567, RMSE: 0.753\n",
      "1/1 [==============================] - 0s 96ms/step\n",
      "Predicted: 10.642451286315918\n"
     ]
    }
   ],
   "source": [
    "error = model.evaluate(X_test, y_test, verbose=0)\n",
    "print(f'MSE: {error:.3f}, RMSE: {sqrt(error):.3f}')\n",
    "# realizar la prediccion\n",
    "row = [Edad,Sexo,Peso,Altura]\n",
    "y_pred = model.predict([row])\n",
    "set_printoptions(precision=3)\n",
    "print(f'Predicted: {y_pred[0][0]}')"
   ]
  },
  {
   "cell_type": "code",
   "execution_count": 49,
   "id": "8c1f3c34-cebe-4bfe-bdbc-0f622a5dc7a1",
   "metadata": {},
   "outputs": [
    {
     "name": "stdout",
     "output_type": "stream",
     "text": [
      "Segun el modelo escogido, el atleta con los datos introducidos hará el siguiente tiempo:\n",
      "Edad:25, Sexo:0, Peso:75, Altura:180, hará un tiempo de 10.642451286315918 segundos\n"
     ]
    }
   ],
   "source": [
    "print(f\"Segun el modelo escogido, el atleta con los datos introducidos hará el siguiente tiempo:\")\n",
    "print(f\"Edad:{Edad}, Sexo:{Sexo}, Peso:{Peso}, Altura:{Altura}, hará un tiempo de {y_pred[0][0]} segundos\")"
   ]
  }
 ],
 "metadata": {
  "kernelspec": {
   "display_name": "Python 3",
   "language": "python",
   "name": "python3"
  },
  "language_info": {
   "codemirror_mode": {
    "name": "ipython",
    "version": 3
   },
   "file_extension": ".py",
   "mimetype": "text/x-python",
   "name": "python",
   "nbconvert_exporter": "python",
   "pygments_lexer": "ipython3",
   "version": "3.12.3"
  }
 },
 "nbformat": 4,
 "nbformat_minor": 5
}
